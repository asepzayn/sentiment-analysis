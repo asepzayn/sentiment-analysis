{
 "cells": [
  {
   "cell_type": "code",
   "execution_count": 1,
   "metadata": {},
   "outputs": [],
   "source": [
    "# Memanggil semua library yang dibutuhkan\n",
    "import json, tweepy, re, string, nltk, pandas as pd, numpy as np, matplotlib.pyplot as plt, datetime, seaborn as sns\n",
    "from requests_oauthlib import OAuth1\n",
    "from nltk.probability import FreqDist\n",
    "from nltk.corpus import stopwords\n",
    "from nltk.tokenize import sent_tokenize, word_tokenize\n",
    "from Sastrawi.Stemmer.StemmerFactory import StemmerFactory\n",
    "from urllib.request import urlopen\n",
    "from bs4 import BeautifulSoup\n",
    "from wordcloud import WordCloud\n"
   ]
  },
  {
   "cell_type": "code",
   "execution_count": 2,
   "metadata": {},
   "outputs": [],
   "source": [
    "# Membuka file token.json\n",
    "with open(\"token.json\") as f:\n",
    "    tokens = json.load(f)\n",
    "\n",
    "    api_key = tokens[\"api_key\"]\n",
    "    api_key_secret = tokens[\"api_key_secret\"]\n",
    "    bearer_token = tokens[\"bearer_token\"]\n",
    "    access_token = tokens[\"access_token\"]\n",
    "    access_token_secret = tokens[\"access_token_secret\"]\n"
   ]
  },
  {
   "cell_type": "code",
   "execution_count": 3,
   "metadata": {},
   "outputs": [],
   "source": [
    "auth = tweepy.OAuthHandler(api_key, api_key_secret)\n",
    "auth.set_access_token(access_token, access_token_secret)\n",
    "api = tweepy.Client(bearer_token=bearer_token, wait_on_rate_limit=True)"
   ]
  },
  {
   "cell_type": "code",
   "execution_count": 4,
   "metadata": {},
   "outputs": [],
   "source": [
    "# Melakukan scrapping data menggunakan tweepy v2\n",
    "query = \"pssi -is:retweet lang:id\"\n",
    "max_result = 300\n",
    "response = tweepy.Paginator(api.search_recent_tweets,\n",
    "                            query=query,\n",
    "                            start_time=datetime.datetime(2023, 1, 20, 0, 0, 0),\n",
    "                            end_time=datetime.datetime(2023, 1, 22, 0, 0, 0),\n",
    "                            max_results=100\n",
    "                            ).flatten(limit=max_result)"
   ]
  },
  {
   "cell_type": "code",
   "execution_count": 5,
   "metadata": {},
   "outputs": [
    {
     "data": {
      "text/html": [
       "<div>\n",
       "<style scoped>\n",
       "    .dataframe tbody tr th:only-of-type {\n",
       "        vertical-align: middle;\n",
       "    }\n",
       "\n",
       "    .dataframe tbody tr th {\n",
       "        vertical-align: top;\n",
       "    }\n",
       "\n",
       "    .dataframe thead th {\n",
       "        text-align: right;\n",
       "    }\n",
       "</style>\n",
       "<table border=\"1\" class=\"dataframe\">\n",
       "  <thead>\n",
       "    <tr style=\"text-align: right;\">\n",
       "      <th></th>\n",
       "      <th>text</th>\n",
       "    </tr>\n",
       "  </thead>\n",
       "  <tbody>\n",
       "    <tr>\n",
       "      <th>0</th>\n",
       "      <td>@PSSI mantap.,. pelatih, pemain smua naturalis...</td>\n",
       "    </tr>\n",
       "    <tr>\n",
       "      <th>1</th>\n",
       "      <td>Proses Verifikasi Bakal Petinggi PSSI Diumumka...</td>\n",
       "    </tr>\n",
       "    <tr>\n",
       "      <th>2</th>\n",
       "      <td>@wirasatriap23 @SekarPandann @BlueHooligan___ ...</td>\n",
       "    </tr>\n",
       "    <tr>\n",
       "      <th>3</th>\n",
       "      <td>@aundragdown @PSSleman Nek moro-moro ono wkwkw...</td>\n",
       "    </tr>\n",
       "    <tr>\n",
       "      <th>4</th>\n",
       "      <td>Tegas! Madura United Tolak Berikan Suara kepad...</td>\n",
       "    </tr>\n",
       "    <tr>\n",
       "      <th>...</th>\n",
       "      <td>...</td>\n",
       "    </tr>\n",
       "    <tr>\n",
       "      <th>295</th>\n",
       "      <td>@panditfootball Ujung muaranyA di PSSI nah bap...</td>\n",
       "    </tr>\n",
       "    <tr>\n",
       "      <th>296</th>\n",
       "      <td>@SiaranBolaLive Intinya semuanya tolol, mau ps...</td>\n",
       "    </tr>\n",
       "    <tr>\n",
       "      <th>297</th>\n",
       "      <td>@ibamhariri Lagian udh tahu akun anonim pake d...</td>\n",
       "    </tr>\n",
       "    <tr>\n",
       "      <th>298</th>\n",
       "      <td>Sing ora due pendidikan tulih koe su asu @PSSI...</td>\n",
       "    </tr>\n",
       "    <tr>\n",
       "      <th>299</th>\n",
       "      <td>@PSSI Makin Keren nantinya kalau dipimpin Bang...</td>\n",
       "    </tr>\n",
       "  </tbody>\n",
       "</table>\n",
       "<p>300 rows × 1 columns</p>\n",
       "</div>"
      ],
      "text/plain": [
       "                                                  text\n",
       "0    @PSSI mantap.,. pelatih, pemain smua naturalis...\n",
       "1    Proses Verifikasi Bakal Petinggi PSSI Diumumka...\n",
       "2    @wirasatriap23 @SekarPandann @BlueHooligan___ ...\n",
       "3    @aundragdown @PSSleman Nek moro-moro ono wkwkw...\n",
       "4    Tegas! Madura United Tolak Berikan Suara kepad...\n",
       "..                                                 ...\n",
       "295  @panditfootball Ujung muaranyA di PSSI nah bap...\n",
       "296  @SiaranBolaLive Intinya semuanya tolol, mau ps...\n",
       "297  @ibamhariri Lagian udh tahu akun anonim pake d...\n",
       "298  Sing ora due pendidikan tulih koe su asu @PSSI...\n",
       "299  @PSSI Makin Keren nantinya kalau dipimpin Bang...\n",
       "\n",
       "[300 rows x 1 columns]"
      ]
     },
     "execution_count": 5,
     "metadata": {},
     "output_type": "execute_result"
    }
   ],
   "source": [
    "# mengambil isi data pada variabel response\n",
    "tweets = [tweet.text.strip() for tweet in response] \n",
    "data_1 = pd.DataFrame({\"text\":tweets})\n",
    "data_1"
   ]
  },
  {
   "cell_type": "code",
   "execution_count": 6,
   "metadata": {},
   "outputs": [
    {
     "data": {
      "text/html": [
       "<div>\n",
       "<style scoped>\n",
       "    .dataframe tbody tr th:only-of-type {\n",
       "        vertical-align: middle;\n",
       "    }\n",
       "\n",
       "    .dataframe tbody tr th {\n",
       "        vertical-align: top;\n",
       "    }\n",
       "\n",
       "    .dataframe thead th {\n",
       "        text-align: right;\n",
       "    }\n",
       "</style>\n",
       "<table border=\"1\" class=\"dataframe\">\n",
       "  <thead>\n",
       "    <tr style=\"text-align: right;\">\n",
       "      <th></th>\n",
       "      <th>text</th>\n",
       "    </tr>\n",
       "  </thead>\n",
       "  <tbody>\n",
       "    <tr>\n",
       "      <th>0</th>\n",
       "      <td>El Clasico PSSI Erick Vs La Nyalla</td>\n",
       "    </tr>\n",
       "    <tr>\n",
       "      <th>1</th>\n",
       "      <td>Menpora Minta Doa untuk Kesembuhan Eks Ketum P...</td>\n",
       "    </tr>\n",
       "    <tr>\n",
       "      <th>2</th>\n",
       "      <td>La Nyalla: Industri Sepakbola Indonesia Harus ...</td>\n",
       "    </tr>\n",
       "    <tr>\n",
       "      <th>3</th>\n",
       "      <td>Park Hang-seo Bantah Latih Timnas Indonesia, P...</td>\n",
       "    </tr>\n",
       "    <tr>\n",
       "      <th>4</th>\n",
       "      <td>Manuver Erick Thohir Saingi La Nyala Daftar Ca...</td>\n",
       "    </tr>\n",
       "    <tr>\n",
       "      <th>5</th>\n",
       "      <td>Dewa United Dukung Lexyndo Hakim Jadi Anggota ...</td>\n",
       "    </tr>\n",
       "    <tr>\n",
       "      <th>6</th>\n",
       "      <td>Ketua Asprov PSSI Jatim Ungkap Ada Klub Liga 1...</td>\n",
       "    </tr>\n",
       "    <tr>\n",
       "      <th>7</th>\n",
       "      <td>Coretan 'PSSI Bangsat' Muncul di Medan Buntut ...</td>\n",
       "    </tr>\n",
       "    <tr>\n",
       "      <th>8</th>\n",
       "      <td>Poster 'Daur Ulang PSSI' Tersebar di Makassar ...</td>\n",
       "    </tr>\n",
       "    <tr>\n",
       "      <th>9</th>\n",
       "      <td>Jadi Balon Anggota Exco PSSI, Monica Mau Perju...</td>\n",
       "    </tr>\n",
       "  </tbody>\n",
       "</table>\n",
       "</div>"
      ],
      "text/plain": [
       "                                                text\n",
       "0                 El Clasico PSSI Erick Vs La Nyalla\n",
       "1  Menpora Minta Doa untuk Kesembuhan Eks Ketum P...\n",
       "2  La Nyalla: Industri Sepakbola Indonesia Harus ...\n",
       "3  Park Hang-seo Bantah Latih Timnas Indonesia, P...\n",
       "4  Manuver Erick Thohir Saingi La Nyala Daftar Ca...\n",
       "5  Dewa United Dukung Lexyndo Hakim Jadi Anggota ...\n",
       "6  Ketua Asprov PSSI Jatim Ungkap Ada Klub Liga 1...\n",
       "7  Coretan 'PSSI Bangsat' Muncul di Medan Buntut ...\n",
       "8  Poster 'Daur Ulang PSSI' Tersebar di Makassar ...\n",
       "9  Jadi Balon Anggota Exco PSSI, Monica Mau Perju..."
      ]
     },
     "execution_count": 6,
     "metadata": {},
     "output_type": "execute_result"
    }
   ],
   "source": [
    "# Scrapping data dari web menggunakan BeautifulSoup\n",
    "url = \"https://www.detik.com/tag/pssi\"\n",
    "html = urlopen(url)\n",
    "data = BeautifulSoup(html, 'html.parser')\n",
    "\n",
    "divs = data.find_all(\"h2\", {\"class\":\"title\"})\n",
    "berita = []\n",
    "for div in divs:\n",
    "    berita.append(div.get_text())\n",
    "\n",
    "data_2 = pd.DataFrame({\"text\":berita})\n",
    "data_2"
   ]
  },
  {
   "cell_type": "code",
   "execution_count": 7,
   "metadata": {},
   "outputs": [
    {
     "data": {
      "text/html": [
       "<div>\n",
       "<style scoped>\n",
       "    .dataframe tbody tr th:only-of-type {\n",
       "        vertical-align: middle;\n",
       "    }\n",
       "\n",
       "    .dataframe tbody tr th {\n",
       "        vertical-align: top;\n",
       "    }\n",
       "\n",
       "    .dataframe thead th {\n",
       "        text-align: right;\n",
       "    }\n",
       "</style>\n",
       "<table border=\"1\" class=\"dataframe\">\n",
       "  <thead>\n",
       "    <tr style=\"text-align: right;\">\n",
       "      <th></th>\n",
       "      <th>text</th>\n",
       "    </tr>\n",
       "  </thead>\n",
       "  <tbody>\n",
       "    <tr>\n",
       "      <th>0</th>\n",
       "      <td>@PSSI mantap.,. pelatih, pemain smua naturalis...</td>\n",
       "    </tr>\n",
       "    <tr>\n",
       "      <th>1</th>\n",
       "      <td>Proses Verifikasi Bakal Petinggi PSSI Diumumka...</td>\n",
       "    </tr>\n",
       "    <tr>\n",
       "      <th>2</th>\n",
       "      <td>@wirasatriap23 @SekarPandann @BlueHooligan___ ...</td>\n",
       "    </tr>\n",
       "    <tr>\n",
       "      <th>3</th>\n",
       "      <td>@aundragdown @PSSleman Nek moro-moro ono wkwkw...</td>\n",
       "    </tr>\n",
       "    <tr>\n",
       "      <th>4</th>\n",
       "      <td>Tegas! Madura United Tolak Berikan Suara kepad...</td>\n",
       "    </tr>\n",
       "    <tr>\n",
       "      <th>...</th>\n",
       "      <td>...</td>\n",
       "    </tr>\n",
       "    <tr>\n",
       "      <th>305</th>\n",
       "      <td>Dewa United Dukung Lexyndo Hakim Jadi Anggota ...</td>\n",
       "    </tr>\n",
       "    <tr>\n",
       "      <th>306</th>\n",
       "      <td>Ketua Asprov PSSI Jatim Ungkap Ada Klub Liga 1...</td>\n",
       "    </tr>\n",
       "    <tr>\n",
       "      <th>307</th>\n",
       "      <td>Coretan 'PSSI Bangsat' Muncul di Medan Buntut ...</td>\n",
       "    </tr>\n",
       "    <tr>\n",
       "      <th>308</th>\n",
       "      <td>Poster 'Daur Ulang PSSI' Tersebar di Makassar ...</td>\n",
       "    </tr>\n",
       "    <tr>\n",
       "      <th>309</th>\n",
       "      <td>Jadi Balon Anggota Exco PSSI, Monica Mau Perju...</td>\n",
       "    </tr>\n",
       "  </tbody>\n",
       "</table>\n",
       "<p>310 rows × 1 columns</p>\n",
       "</div>"
      ],
      "text/plain": [
       "                                                  text\n",
       "0    @PSSI mantap.,. pelatih, pemain smua naturalis...\n",
       "1    Proses Verifikasi Bakal Petinggi PSSI Diumumka...\n",
       "2    @wirasatriap23 @SekarPandann @BlueHooligan___ ...\n",
       "3    @aundragdown @PSSleman Nek moro-moro ono wkwkw...\n",
       "4    Tegas! Madura United Tolak Berikan Suara kepad...\n",
       "..                                                 ...\n",
       "305  Dewa United Dukung Lexyndo Hakim Jadi Anggota ...\n",
       "306  Ketua Asprov PSSI Jatim Ungkap Ada Klub Liga 1...\n",
       "307  Coretan 'PSSI Bangsat' Muncul di Medan Buntut ...\n",
       "308  Poster 'Daur Ulang PSSI' Tersebar di Makassar ...\n",
       "309  Jadi Balon Anggota Exco PSSI, Monica Mau Perju...\n",
       "\n",
       "[310 rows x 1 columns]"
      ]
     },
     "execution_count": 7,
     "metadata": {},
     "output_type": "execute_result"
    }
   ],
   "source": [
    "# Menggabungkan data_1 dan data_2\n",
    "df = data_1.append(data_2, ignore_index=True)\n",
    "df"
   ]
  },
  {
   "cell_type": "code",
   "execution_count": 8,
   "metadata": {},
   "outputs": [],
   "source": [
    "# Fungsi Case Folding untuk membersihkan text \n",
    "def case_folding(data):\n",
    "    data = data.lower() # menjadikan text lowercase\n",
    "    data = ' '.join(re.sub(\"(@[A-Za-z0-9]+)|([^0-9A-Za-z \\t])|(\\w+:\\/\\/\\S+)\",\" \",data).split()) # menghilangkan karakter @ dan url\n",
    "    data = re.sub(r\"\\d+\", \"\", data) # menghapus angka\n",
    "    data = data.translate(str.maketrans(\"\",\"\",string.punctuation)) # menghapus tanda baca\n",
    "    data = re.sub(r\"\\n\",\"\",data) # menghapus enter\n",
    "    data = re.sub(r\"\\t\",\"\",data) # menghapus tab\n",
    "    return data\n",
    "\n",
    "# Fungsi stopword_cleaner untuk menghilangkan kata-kata yang tidak terpakai atau banyak digunakan\n",
    "def stopword_cleaner(data):\n",
    "    sw_indonesia = stopwords.words(\"indonesian\") + ['pssi','yg','ya','nya','aja','ga','gak']\n",
    "    data  = [word for word in data if word not in sw_indonesia]\n",
    "    data = ' '.join(data)\n",
    "    return data\n",
    "    \n",
    "# Fungsi stem_word untuk mengubah kata menjadi kata dasar\n",
    "def stem_word(data):\n",
    "    factory = StemmerFactory()\n",
    "    stemmer = factory.create_stemmer()\n",
    "    data = stemmer.stem(data)\n",
    "    return data"
   ]
  },
  {
   "cell_type": "code",
   "execution_count": 9,
   "metadata": {},
   "outputs": [
    {
     "data": {
      "text/html": [
       "<div>\n",
       "<style scoped>\n",
       "    .dataframe tbody tr th:only-of-type {\n",
       "        vertical-align: middle;\n",
       "    }\n",
       "\n",
       "    .dataframe tbody tr th {\n",
       "        vertical-align: top;\n",
       "    }\n",
       "\n",
       "    .dataframe thead th {\n",
       "        text-align: right;\n",
       "    }\n",
       "</style>\n",
       "<table border=\"1\" class=\"dataframe\">\n",
       "  <thead>\n",
       "    <tr style=\"text-align: right;\">\n",
       "      <th></th>\n",
       "      <th>text</th>\n",
       "      <th>review</th>\n",
       "    </tr>\n",
       "  </thead>\n",
       "  <tbody>\n",
       "    <tr>\n",
       "      <th>0</th>\n",
       "      <td>@PSSI mantap.,. pelatih, pemain smua naturalis...</td>\n",
       "      <td>mantap latih main smua naturalisasi min mudah ...</td>\n",
       "    </tr>\n",
       "    <tr>\n",
       "      <th>1</th>\n",
       "      <td>Proses Verifikasi Bakal Petinggi PSSI Diumumka...</td>\n",
       "      <td>proses verifikasi petinggi umum januari</td>\n",
       "    </tr>\n",
       "    <tr>\n",
       "      <th>2</th>\n",
       "      <td>@wirasatriap23 @SekarPandann @BlueHooligan___ ...</td>\n",
       "      <td>siga nu teu terang wae ah wkwkwk sakitu kuatka...</td>\n",
       "    </tr>\n",
       "    <tr>\n",
       "      <th>3</th>\n",
       "      <td>@aundragdown @PSSleman Nek moro-moro ono wkwkw...</td>\n",
       "      <td>nek moro moro ono wkwkwk omong ki koyo maratab...</td>\n",
       "    </tr>\n",
       "    <tr>\n",
       "      <th>4</th>\n",
       "      <td>Tegas! Madura United Tolak Berikan Suara kepad...</td>\n",
       "      <td>madura united tolak suara nama maju urus halam...</td>\n",
       "    </tr>\n",
       "    <tr>\n",
       "      <th>...</th>\n",
       "      <td>...</td>\n",
       "      <td>...</td>\n",
       "    </tr>\n",
       "    <tr>\n",
       "      <th>305</th>\n",
       "      <td>Dewa United Dukung Lexyndo Hakim Jadi Anggota ...</td>\n",
       "      <td>dewa united dukung lexyndo hakim anggota exco</td>\n",
       "    </tr>\n",
       "    <tr>\n",
       "      <th>306</th>\n",
       "      <td>Ketua Asprov PSSI Jatim Ungkap Ada Klub Liga 1...</td>\n",
       "      <td>ketua asprov jatim klub liga suporter</td>\n",
       "    </tr>\n",
       "    <tr>\n",
       "      <th>307</th>\n",
       "      <td>Coretan 'PSSI Bangsat' Muncul di Medan Buntut ...</td>\n",
       "      <td>coret bangsat muncul medan buntut liga henti</td>\n",
       "    </tr>\n",
       "    <tr>\n",
       "      <th>308</th>\n",
       "      <td>Poster 'Daur Ulang PSSI' Tersebar di Makassar ...</td>\n",
       "      <td>poster daur ulang sebar makassar jelang klb</td>\n",
       "    </tr>\n",
       "    <tr>\n",
       "      <th>309</th>\n",
       "      <td>Jadi Balon Anggota Exco PSSI, Monica Mau Perju...</td>\n",
       "      <td>balon anggota exco monica juang sepakbola wanita</td>\n",
       "    </tr>\n",
       "  </tbody>\n",
       "</table>\n",
       "<p>310 rows × 2 columns</p>\n",
       "</div>"
      ],
      "text/plain": [
       "                                                  text  \\\n",
       "0    @PSSI mantap.,. pelatih, pemain smua naturalis...   \n",
       "1    Proses Verifikasi Bakal Petinggi PSSI Diumumka...   \n",
       "2    @wirasatriap23 @SekarPandann @BlueHooligan___ ...   \n",
       "3    @aundragdown @PSSleman Nek moro-moro ono wkwkw...   \n",
       "4    Tegas! Madura United Tolak Berikan Suara kepad...   \n",
       "..                                                 ...   \n",
       "305  Dewa United Dukung Lexyndo Hakim Jadi Anggota ...   \n",
       "306  Ketua Asprov PSSI Jatim Ungkap Ada Klub Liga 1...   \n",
       "307  Coretan 'PSSI Bangsat' Muncul di Medan Buntut ...   \n",
       "308  Poster 'Daur Ulang PSSI' Tersebar di Makassar ...   \n",
       "309  Jadi Balon Anggota Exco PSSI, Monica Mau Perju...   \n",
       "\n",
       "                                                review  \n",
       "0    mantap latih main smua naturalisasi min mudah ...  \n",
       "1              proses verifikasi petinggi umum januari  \n",
       "2    siga nu teu terang wae ah wkwkwk sakitu kuatka...  \n",
       "3    nek moro moro ono wkwkwk omong ki koyo maratab...  \n",
       "4    madura united tolak suara nama maju urus halam...  \n",
       "..                                                 ...  \n",
       "305      dewa united dukung lexyndo hakim anggota exco  \n",
       "306              ketua asprov jatim klub liga suporter  \n",
       "307       coret bangsat muncul medan buntut liga henti  \n",
       "308        poster daur ulang sebar makassar jelang klb  \n",
       "309   balon anggota exco monica juang sepakbola wanita  \n",
       "\n",
       "[310 rows x 2 columns]"
      ]
     },
     "execution_count": 9,
     "metadata": {},
     "output_type": "execute_result"
    }
   ],
   "source": [
    "# Membuat kolom review dan mengaplikasikan fungsi-fungsi diatas pada kolom review\n",
    "df['review'] = df['text']\n",
    "for index in range (len(df[\"review\"])):\n",
    "  df[\"review\"].iloc[index] = case_folding(df[\"review\"].iloc[index])\n",
    "  df[\"review\"].iloc[index] = word_tokenize(df[\"review\"].iloc[index])\n",
    "  df[\"review\"].iloc[index] = stopword_cleaner(df[\"review\"].iloc[index])\n",
    "  df[\"review\"].iloc[index] = stem_word(df[\"review\"].iloc[index])\n",
    "\n",
    "df"
   ]
  },
  {
   "cell_type": "code",
   "execution_count": 10,
   "metadata": {},
   "outputs": [
    {
     "data": {
      "image/png": "[encoded data removed]",
      "text/plain": [
       "<Figure size 432x288 with 1 Axes>"
      ]
     },
     "metadata": {
      "needs_background": "light"
     },
     "output_type": "display_data"
    }
   ],
   "source": [
    "# Distribusi Frekuensi jumlah huruf per data\n",
    "bin_range = np.arange(0, 260, 10)\n",
    "df['review'].str.len().hist(bins=bin_range)\n",
    "plt.show()"
   ]
  },
  {
   "attachments": {},
   "cell_type": "markdown",
   "metadata": {},
   "source": [
    "Distribusi terbanyak berada pada 10 - 70 huruf per kalimat. Dengan kalimat yang memiliki panjang diatas 20 huruf."
   ]
  },
  {
   "cell_type": "code",
   "execution_count": 11,
   "metadata": {},
   "outputs": [
    {
     "data": {
      "image/png": "[encoded data removed]",
      "text/plain": [
       "<Figure size 432x288 with 1 Axes>"
      ]
     },
     "metadata": {
      "needs_background": "light"
     },
     "output_type": "display_data"
    }
   ],
   "source": [
    "# Distribusi frekuensi jumlah kata per data\n",
    "bin_range = np.arange(0, 50)\n",
    "df['review'].str.split().map(lambda x: len(x)).hist(bins=bin_range)\n",
    "plt.show()"
   ]
  },
  {
   "attachments": {},
   "cell_type": "markdown",
   "metadata": {},
   "source": [
    "Distribusi terbanyak berada pada 4 - 10 kata per kalimat. Kalimat dengan jumlah kata diatas 13 tidak terlalu banyak"
   ]
  },
  {
   "cell_type": "code",
   "execution_count": 12,
   "metadata": {},
   "outputs": [
    {
     "name": "stderr",
     "output_type": "stream",
     "text": [
      "c:\\Users\\asus\\AppData\\Local\\Programs\\Python\\Python38-32\\lib\\site-packages\\numpy\\core\\fromnumeric.py:3372: RuntimeWarning: Mean of empty slice.\n",
      "  return _methods._mean(a, axis=axis, dtype=dtype,\n",
      "c:\\Users\\asus\\AppData\\Local\\Programs\\Python\\Python38-32\\lib\\site-packages\\numpy\\core\\_methods.py:170: RuntimeWarning: invalid value encountered in double_scalars\n",
      "  ret = ret.dtype.type(ret / rcount)\n"
     ]
    },
    {
     "data": {
      "image/png": "[encoded data removed]",
      "text/plain": [
       "<Figure size 432x288 with 1 Axes>"
      ]
     },
     "metadata": {
      "needs_background": "light"
     },
     "output_type": "display_data"
    }
   ],
   "source": [
    "# Distribusi Frekuensi Panjang Kata Rata-Rata Pada Data\n",
    "df['review'].str.split().apply(lambda x : [len(i) for i in x]).map(lambda x: np.mean(x)).hist()\n",
    "plt.show()"
   ]
  },
  {
   "attachments": {},
   "cell_type": "markdown",
   "metadata": {},
   "source": [
    "Distribusi terbanyak berada pada 5 - 7 karakter per kata per tweet. Jumlah huruf pada kata yang umum ada pada bahasa indonesia. "
   ]
  },
  {
   "cell_type": "code",
   "execution_count": 13,
   "metadata": {},
   "outputs": [
    {
     "name": "stdout",
     "output_type": "stream",
     "text": [
      "[('erick', 49), ('thohir', 45), ('indonesia', 37), ('ketua', 33), ('liga', 32), ('didik', 32), ('bola', 31), ('suporter', 31), ('sepakbola', 30), ('kalo', 30), ('butuhnyalibukannyala', 29), ('main', 25), ('tum', 21), ('sepak', 19), ('calon', 18), ('orang', 17), ('klub', 16), ('urus', 15), ('salah', 15), ('pilih', 14)]\n"
     ]
    }
   ],
   "source": [
    "# Distribusi Frekuensi Kata yang sering keluar\n",
    "token_review = df['review'].apply(lambda x: word_tokenize(str(x)))\n",
    "tweets = [word for tweet in token_review for word in tweet]\n",
    "fqdist = FreqDist(tweets)\n",
    "most_common_word = fqdist.most_common(20)\n",
    "print(most_common_word)"
   ]
  },
  {
   "cell_type": "code",
   "execution_count": 14,
   "metadata": {},
   "outputs": [
    {
     "data": {
      "image/png": "[encoded data removed]",
      "text/plain": [
       "<Figure size 432x288 with 1 Axes>"
      ]
     },
     "metadata": {
      "needs_background": "light"
     },
     "output_type": "display_data"
    }
   ],
   "source": [
    "fqdist.plot(20,cumulative=False)\n",
    "plt.show()"
   ]
  },
  {
   "attachments": {},
   "cell_type": "markdown",
   "metadata": {},
   "source": [
    "Distribusi kata yang sering keluar terdapat pada kata erick, thohir, dan indonesia dengan frekuensi kemunculan diatas 35 kali."
   ]
  },
  {
   "cell_type": "code",
   "execution_count": 15,
   "metadata": {},
   "outputs": [
    {
     "name": "stdout",
     "output_type": "stream",
     "text": [
      "(erick, thohir)                             45\n",
      "(sepak, bola)                               19\n",
      "(sepakbola, indonesia)                      11\n",
      "(calon, ketua)                              11\n",
      "(liga, indonesia)                            7\n",
      "(ketua, erick)                               6\n",
      "(bola, indonesia)                            6\n",
      "(pilih, ketua)                               5\n",
      "(menteri, bumn)                              5\n",
      "(amal, mundur)                               5\n",
      "(butuhnyalibukannyala, bangkitbersamaet)     5\n",
      "(prestasi, olahraga)                         4\n",
      "(gas, air)                                   4\n",
      "(restu, presiden)                            4\n",
      "(air, mata)                                  4\n",
      "(main, turun)                                4\n",
      "(bolasport, arenanews)                       4\n",
      "(halaman, bolasport)                         4\n",
      "(zainudin, amal)                             4\n",
      "(arenanews, kamidi)                          4\n",
      "dtype: int64\n"
     ]
    }
   ],
   "source": [
    "# Distribusi N-gram\n",
    "result = pd.Series(nltk.ngrams(tweets, 2)).value_counts()[:20]\n",
    "print(result)"
   ]
  },
  {
   "attachments": {},
   "cell_type": "markdown",
   "metadata": {},
   "source": [
    "Berdasarkan bigram diatas, dapat disimpulkan bahwa isu dan topik yang sedang hangat dibicarakan adalah tentang pemilihan ketua dimana erick tohir merupakan calon ketua yang paling banyak dibicarakan, restu yang diberikan presiden, sepak bola di Indonesia, dan liga Indonesia."
   ]
  },
  {
   "cell_type": "code",
   "execution_count": 16,
   "metadata": {},
   "outputs": [],
   "source": [
    "# Membuka file kata_positif.txt dan kata_negatif.txt sebagai referensi pengelompokan sentiment\n",
    "with open(\"kata_positif.txt\",\"r\") as positif_file :\n",
    "  positive_words = list(set(positif_file.readlines()))\n",
    "with open(\"kata_negatif.txt\",\"r\") as negative_file :\n",
    "  negative_words = list(set(negative_file.readlines()))"
   ]
  },
  {
   "cell_type": "code",
   "execution_count": 17,
   "metadata": {},
   "outputs": [],
   "source": [
    "tweetss = list(df[\"review\"])\n",
    "hasil = []\n",
    "list_negasi = ['tidak','lawan','anti', 'tdk', 'jangan', 'gak', 'enggak', 'bukan', 'tak']\n",
    "\n",
    "for tweet in tweetss:\n",
    "\n",
    "    tweet_clean = tweet.strip().split()\n",
    "    \n",
    "    good_count = 0 #nilai positif\n",
    "    bad_count = 0 #nilai negatif\n",
    "\n",
    "    for good_word in positive_words:\n",
    "        count = tweet_clean.count(good_word.strip().lower())\n",
    "        if count > 0:\n",
    "          good_count += count\n",
    "\n",
    "    for bad_word in negative_words:\n",
    "        count = tweet_clean.count(bad_word.strip().lower())\n",
    "        if count > 0:\n",
    "          bad_count += count\n",
    "    \n",
    "    hasil.append(good_count - bad_count)"
   ]
  },
  {
   "cell_type": "code",
   "execution_count": 18,
   "metadata": {},
   "outputs": [
    {
     "data": {
      "text/html": [
       "<div>\n",
       "<style scoped>\n",
       "    .dataframe tbody tr th:only-of-type {\n",
       "        vertical-align: middle;\n",
       "    }\n",
       "\n",
       "    .dataframe tbody tr th {\n",
       "        vertical-align: top;\n",
       "    }\n",
       "\n",
       "    .dataframe thead th {\n",
       "        text-align: right;\n",
       "    }\n",
       "</style>\n",
       "<table border=\"1\" class=\"dataframe\">\n",
       "  <thead>\n",
       "    <tr style=\"text-align: right;\">\n",
       "      <th></th>\n",
       "      <th>text</th>\n",
       "      <th>review</th>\n",
       "      <th>sentiment</th>\n",
       "    </tr>\n",
       "  </thead>\n",
       "  <tbody>\n",
       "    <tr>\n",
       "      <th>0</th>\n",
       "      <td>@PSSI mantap.,. pelatih, pemain smua naturalis...</td>\n",
       "      <td>mantap latih main smua naturalisasi min mudah ...</td>\n",
       "      <td>positif</td>\n",
       "    </tr>\n",
       "    <tr>\n",
       "      <th>1</th>\n",
       "      <td>Proses Verifikasi Bakal Petinggi PSSI Diumumka...</td>\n",
       "      <td>proses verifikasi petinggi umum januari</td>\n",
       "      <td>netral</td>\n",
       "    </tr>\n",
       "    <tr>\n",
       "      <th>2</th>\n",
       "      <td>@wirasatriap23 @SekarPandann @BlueHooligan___ ...</td>\n",
       "      <td>siga nu teu terang wae ah wkwkwk sakitu kuatka...</td>\n",
       "      <td>netral</td>\n",
       "    </tr>\n",
       "    <tr>\n",
       "      <th>3</th>\n",
       "      <td>@aundragdown @PSSleman Nek moro-moro ono wkwkw...</td>\n",
       "      <td>nek moro moro ono wkwkwk omong ki koyo maratab...</td>\n",
       "      <td>netral</td>\n",
       "    </tr>\n",
       "    <tr>\n",
       "      <th>4</th>\n",
       "      <td>Tegas! Madura United Tolak Berikan Suara kepad...</td>\n",
       "      <td>madura united tolak suara nama maju urus halam...</td>\n",
       "      <td>positif</td>\n",
       "    </tr>\n",
       "    <tr>\n",
       "      <th>...</th>\n",
       "      <td>...</td>\n",
       "      <td>...</td>\n",
       "      <td>...</td>\n",
       "    </tr>\n",
       "    <tr>\n",
       "      <th>305</th>\n",
       "      <td>Dewa United Dukung Lexyndo Hakim Jadi Anggota ...</td>\n",
       "      <td>dewa united dukung lexyndo hakim anggota exco</td>\n",
       "      <td>netral</td>\n",
       "    </tr>\n",
       "    <tr>\n",
       "      <th>306</th>\n",
       "      <td>Ketua Asprov PSSI Jatim Ungkap Ada Klub Liga 1...</td>\n",
       "      <td>ketua asprov jatim klub liga suporter</td>\n",
       "      <td>netral</td>\n",
       "    </tr>\n",
       "    <tr>\n",
       "      <th>307</th>\n",
       "      <td>Coretan 'PSSI Bangsat' Muncul di Medan Buntut ...</td>\n",
       "      <td>coret bangsat muncul medan buntut liga henti</td>\n",
       "      <td>negatif</td>\n",
       "    </tr>\n",
       "    <tr>\n",
       "      <th>308</th>\n",
       "      <td>Poster 'Daur Ulang PSSI' Tersebar di Makassar ...</td>\n",
       "      <td>poster daur ulang sebar makassar jelang klb</td>\n",
       "      <td>netral</td>\n",
       "    </tr>\n",
       "    <tr>\n",
       "      <th>309</th>\n",
       "      <td>Jadi Balon Anggota Exco PSSI, Monica Mau Perju...</td>\n",
       "      <td>balon anggota exco monica juang sepakbola wanita</td>\n",
       "      <td>netral</td>\n",
       "    </tr>\n",
       "  </tbody>\n",
       "</table>\n",
       "<p>310 rows × 3 columns</p>\n",
       "</div>"
      ],
      "text/plain": [
       "                                                  text  \\\n",
       "0    @PSSI mantap.,. pelatih, pemain smua naturalis...   \n",
       "1    Proses Verifikasi Bakal Petinggi PSSI Diumumka...   \n",
       "2    @wirasatriap23 @SekarPandann @BlueHooligan___ ...   \n",
       "3    @aundragdown @PSSleman Nek moro-moro ono wkwkw...   \n",
       "4    Tegas! Madura United Tolak Berikan Suara kepad...   \n",
       "..                                                 ...   \n",
       "305  Dewa United Dukung Lexyndo Hakim Jadi Anggota ...   \n",
       "306  Ketua Asprov PSSI Jatim Ungkap Ada Klub Liga 1...   \n",
       "307  Coretan 'PSSI Bangsat' Muncul di Medan Buntut ...   \n",
       "308  Poster 'Daur Ulang PSSI' Tersebar di Makassar ...   \n",
       "309  Jadi Balon Anggota Exco PSSI, Monica Mau Perju...   \n",
       "\n",
       "                                                review sentiment  \n",
       "0    mantap latih main smua naturalisasi min mudah ...   positif  \n",
       "1              proses verifikasi petinggi umum januari    netral  \n",
       "2    siga nu teu terang wae ah wkwkwk sakitu kuatka...    netral  \n",
       "3    nek moro moro ono wkwkwk omong ki koyo maratab...    netral  \n",
       "4    madura united tolak suara nama maju urus halam...   positif  \n",
       "..                                                 ...       ...  \n",
       "305      dewa united dukung lexyndo hakim anggota exco    netral  \n",
       "306              ketua asprov jatim klub liga suporter    netral  \n",
       "307       coret bangsat muncul medan buntut liga henti   negatif  \n",
       "308        poster daur ulang sebar makassar jelang klb    netral  \n",
       "309   balon anggota exco monica juang sepakbola wanita    netral  \n",
       "\n",
       "[310 rows x 3 columns]"
      ]
     },
     "execution_count": 18,
     "metadata": {},
     "output_type": "execute_result"
    }
   ],
   "source": [
    "# Jika nilai hasil > 0 maka sentiment positif, jika = 0 maka sentiment netral, jika < 0  maka sentiment negatif\n",
    "sentiments = [\"positif\" if sentimen > 0 else (\"netral\" if sentimen == 0 else \"negatif\") for sentimen in hasil]\n",
    "df[\"sentiment\"] = sentiments # membuat kolom sentiment, diisi dengan hasil dari variabel sentiments\n",
    "df"
   ]
  },
  {
   "cell_type": "code",
   "execution_count": 19,
   "metadata": {},
   "outputs": [
    {
     "data": {
      "image/png": "[encoded data removed]",
      "text/plain": [
       "<Figure size 432x288 with 1 Axes>"
      ]
     },
     "metadata": {
      "needs_background": "light"
     },
     "output_type": "display_data"
    }
   ],
   "source": [
    "# Plot distribusi sentiment\n",
    "labels, counts = np.unique(hasil, return_counts=True)\n",
    "\n",
    "fig, ax = plt.subplots()\n",
    "ax.set_xticks(ax.get_xticks())\n",
    "\n",
    "sns.barplot(x = list(labels), \n",
    "            y = list(counts))\n",
    "\n",
    "sns.lineplot(x = ax.get_xticks(), \n",
    "            y = list(counts))\n",
    "\n",
    "plt.title(f'Distribution Sentiment')\n",
    "plt.xlabel('Labels')\n",
    "plt.ylabel('Counts')\n",
    "\n",
    "plt.show()"
   ]
  },
  {
   "attachments": {},
   "cell_type": "markdown",
   "metadata": {},
   "source": [
    "Dari gambar diatas maka data sentiment ini termasuk distribution normal"
   ]
  },
  {
   "cell_type": "code",
   "execution_count": 20,
   "metadata": {},
   "outputs": [
    {
     "data": {
      "text/plain": [
       "<AxesSubplot:ylabel='sentiment'>"
      ]
     },
     "execution_count": 20,
     "metadata": {},
     "output_type": "execute_result"
    },
    {
     "data": {
      "image/png": "[encoded data removed]",
      "text/plain": [
       "<Figure size 432x288 with 1 Axes>"
      ]
     },
     "metadata": {
      "needs_background": "light"
     },
     "output_type": "display_data"
    }
   ],
   "source": [
    "# Plot jumlah nilai untuk kategori positif, netral, dan negatif\n",
    "sns.barplot(x=df['sentiment'].value_counts().index, y=df['sentiment'].value_counts())"
   ]
  },
  {
   "attachments": {},
   "cell_type": "markdown",
   "metadata": {},
   "source": [
    "Dari gambar diatas terlihat bahwa lebih banyak sentiment positif dari pada sentiment negatif. Tetapi disamping itu lebih banyak yang memberikan opini netral."
   ]
  },
  {
   "cell_type": "code",
   "execution_count": 21,
   "metadata": {},
   "outputs": [],
   "source": [
    "df.to_csv('pssi.csv')"
   ]
  }
 ],
 "metadata": {
  "interpreter": {
   "hash": "00353a74eb640e76c3ea96069a586a96e04a8f85b363aa6df5eeebeb90fb1f4e"
  },
  "kernelspec": {
   "display_name": "Python 3.8.5 32-bit",
   "language": "python",
   "name": "python3"
  },
  "language_info": {
   "codemirror_mode": {
    "name": "ipython",
    "version": 3
   },
   "file_extension": ".py",
   "mimetype": "text/x-python",
   "name": "python",
   "nbconvert_exporter": "python",
   "pygments_lexer": "ipython3",
   "version": "3.8.5"
  },
  "orig_nbformat": 4
 },
 "nbformat": 4,
 "nbformat_minor": 2
}
